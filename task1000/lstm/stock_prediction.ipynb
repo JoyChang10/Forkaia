{
  "cells": [
    {
      "cell_type": "markdown",
      "metadata": {
        "id": "Fh3mAYI7wEb5"
      },
      "source": [
        "### Handle the data"
      ]
    },
    {
      "cell_type": "code",
      "execution_count": 2,
      "metadata": {
        "id": "tVbU-WQmwEb6"
      },
      "outputs": [],
      "source": [
        "import torch\n",
        "from torch.utils.data import Dataset\n",
        "\n",
        "\n",
        "class LSTMStocksDataset(Dataset):\n",
        "    def __init__(self, x_tensor: torch.Tensor, y_tensor: torch.Tensor):\n",
        "        self._x_tensor = x_tensor\n",
        "        self._y_tensor = y_tensor\n",
        "\n",
        "    def __len__(self):\n",
        "        return self._y_tensor.shape[0]\n",
        "\n",
        "    def __getitem__(self, idx: int):\n",
        "        return self._x_tensor[idx, :], self._y_tensor[idx]"
      ]
    },
    {
      "cell_type": "markdown",
      "metadata": {
        "id": "n8N1FJqfwEb8"
      },
      "source": [
        "### Construct the LSTM network"
      ]
    },
    {
      "cell_type": "code",
      "execution_count": 3,
      "metadata": {
        "id": "cWe1my23wEb8"
      },
      "outputs": [],
      "source": [
        "from torch import nn\n",
        "\n",
        "\n",
        "class LSTMStocksModule(nn.Module):\n",
        "    HIDDEN_SIZE = 2  # Number of LSTM hidden nodes\n",
        "    NUM_LAYERS = 1  # Number of LSTM layers\n",
        "    BIAS = True  # Whether to include the bias term for some of LSTM's equations\n",
        "\n",
        "    def __init__(self):\n",
        "        super(LSTMStocksModule, self).__init__()\n",
        "        self.lstm = nn.LSTM(\n",
        "            1,\n",
        "            self.HIDDEN_SIZE,\n",
        "            self.NUM_LAYERS,\n",
        "            self.BIAS,\n",
        "            batch_first=True\n",
        "        )\n",
        "        if self.HIDDEN_SIZE > 1:\n",
        "            self.linear = nn.Linear(self.HIDDEN_SIZE, 1, bias=False)\n",
        "\n",
        "    def forward(self, x):\n",
        "        _, (hidden, cell) = self.lstm(x.unsqueeze(-1))\n",
        "        out = hidden.squeeze()\n",
        "        if self.HIDDEN_SIZE > 1:\n",
        "            out = self.linear(out).squeeze()\n",
        "        return out"
      ]
    },
    {
      "cell_type": "markdown",
      "metadata": {
        "id": "B54dTuDkwEb7"
      },
      "source": [
        "### Helper functions"
      ]
    },
    {
      "cell_type": "code",
      "execution_count": 4,
      "metadata": {
        "id": "XVuULdVfwEb7"
      },
      "outputs": [],
      "source": [
        "from functools import partial\n",
        "\n",
        "import numpy as np\n",
        "import pandas as pd\n",
        "import torch\n",
        "from torch.utils.data import DataLoader\n",
        "\n",
        "from matplotlib import pyplot as plt\n",
        "from scipy.stats import norm\n",
        "\n",
        "\n",
        "LEARNING_RATE = 1e-4\n",
        "WEIGHT_DECAY = 1e-6"
      ]
    },
    {
      "cell_type": "code",
      "execution_count": 5,
      "metadata": {
        "id": "G-BI7SH4wEb7"
      },
      "outputs": [],
      "source": [
        "def _draw_chart(y_series: pd.Series):\n",
        "    y_series.plot.hist(bins=50, label='Target Returns')\n",
        "\n",
        "    # Draw Gaussian curve\n",
        "    mu, stdev = norm.fit(y_series)\n",
        "    xmin, xmax = plt.xlim()\n",
        "    x = np.linspace(xmin, xmax, 50)\n",
        "    p = norm.pdf(x, mu, stdev)\n",
        "    p *= y_series.shape[0] / p.sum()\n",
        "\n",
        "    plt.plot(x, p, 'k', linewidth=2, label='Gaussian Curve')\n",
        "    plt.legend()"
      ]
    },
    {
      "cell_type": "code",
      "execution_count": 6,
      "metadata": {
        "id": "ls9K3iMLwEb7"
      },
      "outputs": [],
      "source": [
        "def chart_y_histogram(y_series: pd.Series):\n",
        "    \"\"\"\n",
        "    Create charts that contain the histogram of the inputs and compares them against Normal distributions.\n",
        "    :param y_series: Data to create charts for.\n",
        "    \"\"\"\n",
        "    _draw_chart(y_series)\n",
        "    plt.show()\n",
        "\n",
        "    _draw_chart(y_series)\n",
        "    xmin, _ = plt.xlim()\n",
        "    plt.axis([xmin, -0.015, 0, 10])\n",
        "    plt.show()"
      ]
    },
    {
      "cell_type": "code",
      "execution_count": 7,
      "metadata": {
        "id": "dEAZL1TZwEb8"
      },
      "outputs": [],
      "source": [
        "def predict(trained_model, x_df: pd.DataFrame) -> pd.Series:\n",
        "    \"\"\"\n",
        "    Generates predictions using a trained model\n",
        "    :param trained_model: Trained Pytorch model\n",
        "    :param x_df: Inputs to generate predictions for\n",
        "    :return: Series containing predictions, with reference dates as indices\n",
        "    \"\"\"\n",
        "    # Convert pandas DataFrame to torch Tensor and move to model's device\n",
        "    device = next(trained_model.parameters()).device\n",
        "    x_tensor = torch.tensor(x_df.values, dtype=torch.float32).to(device)\n",
        "\n",
        "    trained_model.eval()\n",
        "\n",
        "    prediction = trained_model(x_tensor)\n",
        "\n",
        "    return pd.Series(prediction.cpu().detach().numpy(), index=x_df.index)"
      ]
    },
    {
      "cell_type": "code",
      "execution_count": 8,
      "metadata": {
        "id": "doZlrzjawEb8"
      },
      "outputs": [],
      "source": [
        "def train(x_df: pd.DataFrame, y_series: pd.Series, epochs: int = 100):\n",
        "    \"\"\"\n",
        "    Trains the LSTMStocksModule model\n",
        "    :param x_df: Inputs consisting of sequences of stock price returns\n",
        "    :param y_series: Targets consisting of returns some days in advance of the reference dates\n",
        "    :param epochs: Number of complete iterations to go through the data in order to train\n",
        "    :return: The trained LSTMStocksModule model\n",
        "    \"\"\"\n",
        "\n",
        "    # Set device\n",
        "    device = torch.device('cuda' if torch.cuda.is_available() else 'cpu')\n",
        "\n",
        "    # Convert pandas objects to Pytorch tensor objects and move to the correct device\n",
        "    x_tensor = torch.tensor(x_df.values, dtype=torch.float32).to(device)\n",
        "    y_tensor = torch.tensor(y_series.values, dtype=torch.float32).to(device)\n",
        "\n",
        "    # Set up the dataloader\n",
        "    train_dataset = LSTMStocksDataset(x_tensor, y_tensor)\n",
        "    train_dataloader = DataLoader(train_dataset, batch_size=64, shuffle=True)\n",
        "\n",
        "    # Initialize model and move to device\n",
        "    model = LSTMStocksModule().to(device).train()\n",
        "\n",
        "    loss_func = partial(torch.nn.functional.huber_loss, delta=0.02)\n",
        "    chart_y_histogram(y_series)\n",
        "\n",
        "    optimizer = torch.optim.Adam(\n",
        "        model.parameters(),\n",
        "        lr=LEARNING_RATE,\n",
        "        weight_decay=WEIGHT_DECAY\n",
        "    )\n",
        "\n",
        "    # Conduct training which consists of homing the model in on the best parameters that minimize the loss\n",
        "    for epoch in range(epochs):\n",
        "        total_loss = 0.\n",
        "        for x, y in train_dataloader:\n",
        "            optimizer.zero_grad()\n",
        "            out = model(x)\n",
        "            loss = loss_func(out, y)\n",
        "            loss.backward()\n",
        "            optimizer.step()\n",
        "            total_loss += loss.cpu().detach().numpy()\n",
        "\n",
        "        print(f\"[Epoch {epoch}] Loss: {total_loss:.4f}\")\n",
        "\n",
        "    return model"
      ]
    },
    {
      "cell_type": "markdown",
      "metadata": {
        "id": "kvejqev4wEb8"
      },
      "source": [
        "### Preprocess the data"
      ]
    },
    {
      "cell_type": "code",
      "execution_count": 9,
      "metadata": {
        "id": "VoBxWx0JwEb8"
      },
      "outputs": [],
      "source": [
        "import pandas as pd\n",
        "\n",
        "def process_inputs(perf_series: pd.Series, window_length: int) -> pd.DataFrame:\n",
        "    \"\"\"\n",
        "    Creates sequences consisting of data from across a moving window. For example, given a window length of 10,\n",
        "    sequences will span indices 0-9, 1-10, 2-11, etc.\n",
        "    :param perf_series: The stock price returns data to extract sequences from.\n",
        "    :param window_length: The size of the moving window.\n",
        "    :return: Pandas DataFrame where each row contains a sequence, and the index refers to the most recent input date,\n",
        "    a.k.a. the reference date.\n",
        "    \"\"\"\n",
        "    dataframes = []\n",
        "    for i in range(window_length):\n",
        "        dataframes.append(perf_series.shift(i).to_frame(f\"T - {i}\"))\n",
        "\n",
        "    return pd.concat(reversed(dataframes), axis=1).dropna()"
      ]
    },
    {
      "cell_type": "code",
      "execution_count": 10,
      "metadata": {
        "id": "6TaY5PltwEb8"
      },
      "outputs": [],
      "source": [
        "def process_targets(perf_series: pd.Series) -> pd.Series:\n",
        "    \"\"\"\n",
        "    Creates targets consisting of data 2 days after the reference date (i.e. the most recent input's date)\n",
        "    :param perf_series: The stock price returns data to extract targets from.\n",
        "    :return: A series where the values consist of returns 2 days after the reference dates, and where the index consists\n",
        "    of the reference dates.\n",
        "    \"\"\"\n",
        "    return perf_series.shift(-2).dropna()"
      ]
    },
    {
      "cell_type": "markdown",
      "metadata": {
        "id": "ape27DiYwEb8"
      },
      "source": [
        "### Fit the training data to the model"
      ]
    },
    {
      "cell_type": "code",
      "execution_count": 11,
      "metadata": {
        "id": "JzIr-D6VwEb9"
      },
      "outputs": [],
      "source": [
        "import datetime\n",
        "\n",
        "import pytz as pytz\n",
        "import yfinance as yf\n",
        "from matplotlib import pyplot as plt\n",
        "from sklearn.metrics import r2_score, mean_absolute_error"
      ]
    },
    {
      "cell_type": "code",
      "execution_count": 18,
      "metadata": {
        "id": "UrpquL_RwEb9",
        "outputId": "306fe770-bf44-4d33-b05c-e3f020872ce4",
        "colab": {
          "base_uri": "https://localhost:8080/",
          "height": 1000
        }
      },
      "outputs": [
        {
          "output_type": "display_data",
          "data": {
            "text/plain": [
              "<Figure size 640x480 with 1 Axes>"
            ],
            "image/png": "[encoded data removed]"
          },
          "metadata": {}
        },
        {
          "output_type": "display_data",
          "data": {
            "text/plain": [
              "<Figure size 640x480 with 1 Axes>"
            ],
            "image/png": "[encoded data removed]"
          },
          "metadata": {}
        },
        {
          "output_type": "stream",
          "name": "stdout",
          "text": [
            "[Epoch 0] Loss: 0.1507\n",
            "[Epoch 1] Loss: 0.1448\n",
            "[Epoch 2] Loss: 0.1390\n",
            "[Epoch 3] Loss: 0.1335\n",
            "[Epoch 4] Loss: 0.1282\n",
            "[Epoch 5] Loss: 0.1232\n",
            "[Epoch 6] Loss: 0.1182\n",
            "[Epoch 7] Loss: 0.1135\n",
            "[Epoch 8] Loss: 0.1090\n",
            "[Epoch 9] Loss: 0.1047\n",
            "[Epoch 10] Loss: 0.1005\n",
            "[Epoch 11] Loss: 0.0965\n",
            "[Epoch 12] Loss: 0.0925\n",
            "[Epoch 13] Loss: 0.0888\n",
            "[Epoch 14] Loss: 0.0852\n",
            "[Epoch 15] Loss: 0.0817\n",
            "[Epoch 16] Loss: 0.0783\n",
            "[Epoch 17] Loss: 0.0751\n",
            "[Epoch 18] Loss: 0.0719\n",
            "[Epoch 19] Loss: 0.0689\n",
            "[Epoch 20] Loss: 0.0660\n",
            "[Epoch 21] Loss: 0.0633\n",
            "[Epoch 22] Loss: 0.0605\n",
            "[Epoch 23] Loss: 0.0580\n",
            "[Epoch 24] Loss: 0.0555\n",
            "[Epoch 25] Loss: 0.0531\n",
            "[Epoch 26] Loss: 0.0508\n",
            "[Epoch 27] Loss: 0.0486\n",
            "[Epoch 28] Loss: 0.0465\n",
            "[Epoch 29] Loss: 0.0444\n",
            "[Epoch 30] Loss: 0.0425\n",
            "[Epoch 31] Loss: 0.0406\n",
            "[Epoch 32] Loss: 0.0389\n",
            "[Epoch 33] Loss: 0.0372\n",
            "[Epoch 34] Loss: 0.0356\n",
            "[Epoch 35] Loss: 0.0341\n",
            "[Epoch 36] Loss: 0.0327\n",
            "[Epoch 37] Loss: 0.0313\n",
            "[Epoch 38] Loss: 0.0300\n",
            "[Epoch 39] Loss: 0.0288\n",
            "[Epoch 40] Loss: 0.0277\n",
            "[Epoch 41] Loss: 0.0266\n",
            "[Epoch 42] Loss: 0.0256\n",
            "[Epoch 43] Loss: 0.0247\n",
            "[Epoch 44] Loss: 0.0238\n",
            "[Epoch 45] Loss: 0.0229\n",
            "[Epoch 46] Loss: 0.0222\n",
            "[Epoch 47] Loss: 0.0215\n",
            "[Epoch 48] Loss: 0.0208\n",
            "[Epoch 49] Loss: 0.0202\n",
            "[Epoch 50] Loss: 0.0196\n",
            "[Epoch 51] Loss: 0.0191\n",
            "[Epoch 52] Loss: 0.0187\n",
            "[Epoch 53] Loss: 0.0182\n",
            "[Epoch 54] Loss: 0.0178\n",
            "[Epoch 55] Loss: 0.0175\n",
            "[Epoch 56] Loss: 0.0171\n",
            "[Epoch 57] Loss: 0.0169\n",
            "[Epoch 58] Loss: 0.0166\n",
            "[Epoch 59] Loss: 0.0164\n",
            "[Epoch 60] Loss: 0.0161\n",
            "[Epoch 61] Loss: 0.0159\n",
            "[Epoch 62] Loss: 0.0158\n",
            "[Epoch 63] Loss: 0.0157\n",
            "[Epoch 64] Loss: 0.0155\n",
            "[Epoch 65] Loss: 0.0154\n",
            "[Epoch 66] Loss: 0.0153\n",
            "[Epoch 67] Loss: 0.0151\n",
            "[Epoch 68] Loss: 0.0151\n",
            "[Epoch 69] Loss: 0.0150\n",
            "[Epoch 70] Loss: 0.0149\n",
            "[Epoch 71] Loss: 0.0149\n",
            "[Epoch 72] Loss: 0.0148\n",
            "[Epoch 73] Loss: 0.0148\n",
            "[Epoch 74] Loss: 0.0148\n",
            "[Epoch 75] Loss: 0.0147\n",
            "[Epoch 76] Loss: 0.0147\n",
            "[Epoch 77] Loss: 0.0147\n",
            "[Epoch 78] Loss: 0.0146\n",
            "[Epoch 79] Loss: 0.0146\n",
            "[Epoch 80] Loss: 0.0146\n",
            "[Epoch 81] Loss: 0.0146\n",
            "[Epoch 82] Loss: 0.0146\n",
            "[Epoch 83] Loss: 0.0146\n",
            "[Epoch 84] Loss: 0.0146\n",
            "[Epoch 85] Loss: 0.0146\n",
            "[Epoch 86] Loss: 0.0146\n",
            "[Epoch 87] Loss: 0.0146\n",
            "[Epoch 88] Loss: 0.0146\n",
            "[Epoch 89] Loss: 0.0146\n",
            "[Epoch 90] Loss: 0.0146\n",
            "[Epoch 91] Loss: 0.0146\n",
            "[Epoch 92] Loss: 0.0146\n",
            "[Epoch 93] Loss: 0.0146\n",
            "[Epoch 94] Loss: 0.0146\n",
            "[Epoch 95] Loss: 0.0146\n",
            "[Epoch 96] Loss: 0.0145\n",
            "[Epoch 97] Loss: 0.0145\n",
            "[Epoch 98] Loss: 0.0146\n",
            "[Epoch 99] Loss: 0.0145\n"
          ]
        },
        {
          "output_type": "display_data",
          "data": {
            "text/plain": [
              "<Figure size 640x480 with 1 Axes>"
            ],
            "image/png": "[encoded data removed]"
          },
          "metadata": {}
        },
        {
          "output_type": "stream",
          "name": "stdout",
          "text": [
            "R Squared: -0.0031, Mean Absolute Error: 0.0286\n"
          ]
        }
      ],
      "source": [
        "# Download price histories from Yahoo Finance\n",
        "tsla = yf.Ticker('TSLA')\n",
        "price_series = tsla.history(period='max')['Close'].dropna()\n",
        "\n",
        "perf_series = price_series.pct_change().dropna()\n",
        "\n",
        "x_df = process_inputs(perf_series, window_length=30)\n",
        "y_series = process_targets(perf_series)\n",
        "\n",
        "# Only keep rows in which we have both inputs and data.\n",
        "common_index = x_df.index.intersection(y_series.index)\n",
        "x_df, y_series = x_df.loc[common_index], y_series.loc[common_index]\n",
        "\n",
        "# Isolate training data\n",
        "# Train the stock data before 2022/1/1\n",
        "training_cutoff = datetime.datetime(2022, 1, 1, tzinfo=pytz.timezone('America/New_York'))\n",
        "training_x_series = x_df.loc[x_df.index < training_cutoff]\n",
        "training_y_series = y_series.loc[y_series.index < training_cutoff]\n",
        "\n",
        "trained_model = train(training_x_series, training_y_series)\n",
        "\n",
        "# Isolate test data\n",
        "test_x_series = x_df.loc[x_df.index >= training_cutoff]\n",
        "actual_series = y_series.loc[y_series.index >= training_cutoff]\n",
        "\n",
        "forecast_series = predict(trained_model, test_x_series)\n",
        "results_df = forecast_series.to_frame('Forecast').join(actual_series.to_frame('Actual')).dropna()\n",
        "\n",
        "# Evaluate forecasts\n",
        "results_df.plot.scatter(x='Actual', y='Forecast')\n",
        "plt.show()\n",
        "print(f\"R Squared: {r2_score(results_df['Actual'], results_df['Forecast']):.4f}, \"\n",
        "        f\"Mean Absolute Error: {mean_absolute_error(results_df['Actual'], results_df['Forecast']):.4f}\")"
      ]
    },
    {
      "cell_type": "code",
      "source": [
        "x_df.to_csv('x_df.csv')"
      ],
      "metadata": {
        "id": "U4FyTmmjBEAu"
      },
      "execution_count": 16,
      "outputs": []
    },
    {
      "cell_type": "code",
      "source": [
        "y_series.to_csv('y_series.csv')"
      ],
      "metadata": {
        "id": "EGNmrwuVCQ0E"
      },
      "execution_count": 17,
      "outputs": []
    }
  ],
  "metadata": {
    "kernelspec": {
      "display_name": "Python 3",
      "name": "python3"
    },
    "language_info": {
      "name": "python",
      "version": "3.11.7"
    },
    "colab": {
      "provenance": []
    }
  },
  "nbformat": 4,
  "nbformat_minor": 0
}