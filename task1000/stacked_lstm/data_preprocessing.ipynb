{
 "cells": [
  {
   "cell_type": "code",
   "execution_count": 2,
   "metadata": {},
   "outputs": [],
   "source": [
    "import yfinance as yf\n",
    "import datetime as dt"
   ]
  },
  {
   "cell_type": "code",
   "execution_count": 4,
   "metadata": {},
   "outputs": [
    {
     "name": "stderr",
     "output_type": "stream",
     "text": [
      "[*********************100%***********************]  1 of 1 completed\n",
      "[*********************100%***********************]  1 of 1 completed\n",
      "[*********************100%***********************]  1 of 1 completed\n",
      "[*********************100%***********************]  1 of 1 completed\n"
     ]
    }
   ],
   "source": [
    "tsla = 'TSLA'\n",
    "goog = 'GOOG'\n",
    "eth = 'ETH-USD'\n",
    "btc = 'BTC-USD'\n",
    "\n",
    "start = dt.datetime(2000, 1, 1)\n",
    "end = dt.datetime.now()\n",
    "\n",
    "tsla_df = yf.download(tsla, start, end)\n",
    "goog_df = yf.download(goog, start, end)\n",
    "eth_df = yf.download(eth, start, end)\n",
    "btc_df = yf.download(btc, start, end)"
   ]
  },
  {
   "cell_type": "code",
   "execution_count": 5,
   "metadata": {},
   "outputs": [],
   "source": [
    "tsla_df = tsla_df.reset_index()\n",
    "goog_df = goog_df.reset_index()\n",
    "eth_df = eth_df.reset_index()\n",
    "btc_df = btc_df.reset_index()"
   ]
  },
  {
   "cell_type": "code",
   "execution_count": 6,
   "metadata": {},
   "outputs": [],
   "source": [
    "tsla_df.to_csv('tsla.csv')\n",
    "goog_df.to_csv('goog.csv')\n",
    "eth_df.to_csv('eth.csv')\n",
    "btc_df.to_csv('btc.csv')"
   ]
  }
 ],
 "metadata": {
  "kernelspec": {
   "display_name": ".venv",
   "language": "python",
   "name": "python3"
  },
  "language_info": {
   "codemirror_mode": {
    "name": "ipython",
    "version": 3
   },
   "file_extension": ".py",
   "mimetype": "text/x-python",
   "name": "python",
   "nbconvert_exporter": "python",
   "pygments_lexer": "ipython3",
   "version": "3.11.7"
  }
 },
 "nbformat": 4,
 "nbformat_minor": 2
}
