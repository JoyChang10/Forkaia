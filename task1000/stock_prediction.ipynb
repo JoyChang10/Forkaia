{
 "cells": [
  {
   "cell_type": "markdown",
   "metadata": {},
   "source": [
    "### Handle the data"
   ]
  },
  {
   "cell_type": "code",
   "execution_count": null,
   "metadata": {},
   "outputs": [],
   "source": [
    "import torch\n",
    "from torch.utils.data import Dataset\n",
    "\n",
    "\n",
    "class LSTMStocksDataset(Dataset):\n",
    "    def __init__(self, x_tensor: torch.Tensor, y_tensor: torch.Tensor):\n",
    "        self._x_tensor = x_tensor\n",
    "        self._y_tensor = y_tensor\n",
    "\n",
    "    def __len__(self):\n",
    "        return self._y_tensor.shape[0]\n",
    "\n",
    "    def __getitem__(self, idx: int):\n",
    "        return self._x_tensor[idx, :], self._y_tensor[idx]"
   ]
  },
  {
   "cell_type": "markdown",
   "metadata": {},
   "source": [
    "### Helper functions"
   ]
  },
  {
   "cell_type": "code",
   "execution_count": null,
   "metadata": {},
   "outputs": [],
   "source": [
    "from functools import partial\n",
    "\n",
    "import numpy as np\n",
    "import pandas as pd\n",
    "import torch\n",
    "from torch.utils.data import DataLoader\n",
    "\n",
    "from dataset import LSTMStocksDataset\n",
    "from model import LSTMStocksModule\n",
    "from matplotlib import pyplot as plt\n",
    "from scipy.stats import norm\n",
    "\n",
    "\n",
    "LEARNING_RATE = 1e-4\n",
    "WEIGHT_DECAY = 1e-6"
   ]
  },
  {
   "cell_type": "code",
   "execution_count": null,
   "metadata": {},
   "outputs": [],
   "source": [
    "def _draw_chart(y_series: pd.Series):\n",
    "    y_series.plot.hist(bins=50, label='Target Returns')\n",
    "\n",
    "    # Draw Gaussian curve\n",
    "    mu, stdev = norm.fit(y_series)\n",
    "    xmin, xmax = plt.xlim()\n",
    "    x = np.linspace(xmin, xmax, 50)\n",
    "    p = norm.pdf(x, mu, stdev)\n",
    "    p *= y_series.shape[0] / p.sum()\n",
    "\n",
    "    plt.plot(x, p, 'k', linewidth=2, label='Gaussian Curve')\n",
    "    plt.legend()"
   ]
  },
  {
   "cell_type": "code",
   "execution_count": null,
   "metadata": {},
   "outputs": [],
   "source": [
    "def chart_y_histogram(y_series: pd.Series):\n",
    "    \"\"\"\n",
    "    Create charts that contain the histogram of the inputs and compares them against Normal distributions.\n",
    "    :param y_series: Data to create charts for.\n",
    "    \"\"\"\n",
    "    _draw_chart(y_series)\n",
    "    plt.show()\n",
    "\n",
    "    _draw_chart(y_series)\n",
    "    xmin, _ = plt.xlim()\n",
    "    plt.axis([xmin, -0.015, 0, 10])\n",
    "    plt.show()"
   ]
  },
  {
   "cell_type": "code",
   "execution_count": null,
   "metadata": {},
   "outputs": [],
   "source": [
    "def train(x_df: pd.DataFrame, y_series: pd.Series, epochs: int = 100):\n",
    "    \"\"\"\n",
    "    Trains the LSTMStocksModule model\n",
    "    :param x_df: Inputs consisting of sequences of stock price returns\n",
    "    :param y_series: Targets consisting of returns some days in advance of the reference dates\n",
    "    :param epochs: Number of complete iterations to go through the data in order to train\n",
    "    :return: The trained LSTMStocksModule model\n",
    "    \"\"\"\n",
    "    # Put data into GPU if possible\n",
    "    dataloader_kwargs = {}\n",
    "    if torch.cuda.is_available():\n",
    "        torch.set_default_dtype(torch.float32)  # Store all training data in the GPU\n",
    "        dataloader_kwargs['generator'] = torch.Generator(device='cuda')\n",
    "    else:\n",
    "        torch.set_default_dtype(torch.float32)\n",
    "\n",
    "    # Turn pandas objects into Pytorch tensor objects\n",
    "    x_tensor, y_tensor = torch.tensor(x_df.values).float(), torch.tensor(y_series.values).float()\n",
    "\n",
    "    # Set up the dataloader\n",
    "    train_dataset = LSTMStocksDataset(x_tensor, y_tensor)\n",
    "    train_dataloader = DataLoader(train_dataset, batch_size=64, shuffle=True, **dataloader_kwargs)\n",
    "\n",
    "    model = LSTMStocksModule().train()\n",
    "    if torch.cuda.is_available():  # Train on GPU if possible\n",
    "        model = model.cuda()\n",
    "\n",
    "    loss_func = partial(torch.nn.functional.huber_loss, delta=0.02)\n",
    "    chart_y_histogram(y_series)\n",
    "\n",
    "    optimizer = torch.optim.Adam(\n",
    "        model.parameters(),\n",
    "        lr=LEARNING_RATE,\n",
    "        weight_decay=WEIGHT_DECAY\n",
    "    )\n",
    "\n",
    "    # Conduct training which consists of homing the model in on the best parameters that minimize the loss\n",
    "    for i in range(epochs):\n",
    "        total_loss = 0.\n",
    "        for x, y in train_dataloader:\n",
    "            optimizer.zero_grad()\n",
    "            out = model(x)\n",
    "            loss = loss_func(out, y)\n",
    "            loss.backward()\n",
    "            optimizer.step()\n",
    "            total_loss += loss.cpu().detach().numpy()\n",
    "\n",
    "        print(f\"[Epoch {i}] Loss: {total_loss:.4f}\")\n",
    "\n",
    "    return model"
   ]
  },
  {
   "cell_type": "code",
   "execution_count": null,
   "metadata": {},
   "outputs": [],
   "source": [
    "def predict(trained_model, x_df: pd.DataFrame) -> pd.Series:\n",
    "    \"\"\"\n",
    "    Generates predictions using a trained model\n",
    "    :param trained_model: Trained Pytorch model\n",
    "    :param x_df: Inputs to generate predictions for\n",
    "    :return: Series containing predictions, with reference dates as indices\n",
    "    \"\"\"\n",
    "    trained_model.eval()\n",
    "\n",
    "    x_tensor = torch.tensor(x_df.values).float()\n",
    "    prediction = trained_model(x_tensor)\n",
    "\n",
    "    return pd.Series(prediction.cpu().detach().numpy(), index=x_df.index)"
   ]
  },
  {
   "cell_type": "markdown",
   "metadata": {},
   "source": [
    "### Construct the LSTM network"
   ]
  },
  {
   "cell_type": "code",
   "execution_count": null,
   "metadata": {},
   "outputs": [],
   "source": [
    "from torch import nn\n",
    "\n",
    "\n",
    "class LSTMStocksModule(nn.Module):\n",
    "    HIDDEN_SIZE = 2  # Number of LSTM hidden nodes\n",
    "    NUM_LAYERS = 1  # Number of LSTM layers\n",
    "    BIAS = True  # Whether to include the bias term for some of LSTM's equations\n",
    "\n",
    "    def __init__(self):\n",
    "        super(LSTMStocksModule, self).__init__()\n",
    "        self.lstm = nn.LSTM(\n",
    "            1,\n",
    "            self.HIDDEN_SIZE,\n",
    "            self.NUM_LAYERS,\n",
    "            self.BIAS,\n",
    "            batch_first=True\n",
    "        )\n",
    "        if self.HIDDEN_SIZE > 1:\n",
    "            self.linear = nn.Linear(self.HIDDEN_SIZE, 1, bias=False)\n",
    "\n",
    "    def forward(self, x):\n",
    "        _, (hidden, cell) = self.lstm(x.unsqueeze(-1))\n",
    "        out = hidden.squeeze()\n",
    "        if self.HIDDEN_SIZE > 1:\n",
    "            out = self.linear(out).squeeze()\n",
    "        return out"
   ]
  },
  {
   "cell_type": "markdown",
   "metadata": {},
   "source": [
    "### Preprocess the data"
   ]
  },
  {
   "cell_type": "code",
   "execution_count": null,
   "metadata": {},
   "outputs": [],
   "source": [
    "import pandas as pd\n",
    "\n",
    "def process_inputs(perf_series: pd.Series, window_length: int) -> pd.DataFrame:\n",
    "    \"\"\"\n",
    "    Creates sequences consisting of data from across a moving window. For example, given a window length of 10,\n",
    "    sequences will span indices 0-9, 1-10, 2-11, etc.\n",
    "    :param perf_series: The stock price returns data to extract sequences from.\n",
    "    :param window_length: The size of the moving window.\n",
    "    :return: Pandas DataFrame where each row contains a sequence, and the index refers to the most recent input date,\n",
    "    a.k.a. the reference date.\n",
    "    \"\"\"\n",
    "    dataframes = []\n",
    "    for i in range(window_length):\n",
    "        dataframes.append(perf_series.shift(i).to_frame(f\"T - {i}\"))\n",
    "\n",
    "    return pd.concat(reversed(dataframes), axis=1).dropna()"
   ]
  },
  {
   "cell_type": "code",
   "execution_count": null,
   "metadata": {},
   "outputs": [],
   "source": [
    "def process_targets(perf_series: pd.Series) -> pd.Series:\n",
    "    \"\"\"\n",
    "    Creates targets consisting of data 2 days after the reference date (i.e. the most recent input's date)\n",
    "    :param perf_series: The stock price returns data to extract targets from.\n",
    "    :return: A series where the values consist of returns 2 days after the reference dates, and where the index consists\n",
    "    of the reference dates.\n",
    "    \"\"\"\n",
    "    return perf_series.shift(-2).dropna()"
   ]
  },
  {
   "cell_type": "markdown",
   "metadata": {},
   "source": [
    "### Fit the training data to the model"
   ]
  },
  {
   "cell_type": "code",
   "execution_count": null,
   "metadata": {},
   "outputs": [],
   "source": [
    "import datetime\n",
    "\n",
    "import pytz as pytz\n",
    "import yfinance as yf\n",
    "from matplotlib import pyplot as plt\n",
    "from sklearn.metrics import r2_score, mean_absolute_error\n",
    "\n",
    "from helpers import train, predict\n",
    "from preprocessing import process_inputs, process_targets"
   ]
  },
  {
   "cell_type": "code",
   "execution_count": null,
   "metadata": {},
   "outputs": [],
   "source": [
    "# Download price histories from Yahoo Finance\n",
    "tsla = yf.Ticker('TSLA')\n",
    "price_series = tsla.history(period='max')['Close'].dropna()\n",
    "\n",
    "perf_series = price_series.pct_change().dropna()\n",
    "\n",
    "x_df = process_inputs(perf_series, window_length=10)\n",
    "y_series = process_targets(perf_series)\n",
    "\n",
    "# Only keep rows in which we have both inputs and data.\n",
    "common_index = x_df.index.intersection(y_series.index)\n",
    "x_df, y_series = x_df.loc[common_index], y_series.loc[common_index]\n",
    "\n",
    "# Isolate training data\n",
    "training_cutoff = datetime.datetime(2020, 1, 1, tzinfo=pytz.timezone('America/New_York'))\n",
    "training_x_series = x_df.loc[x_df.index < training_cutoff]\n",
    "training_y_series = y_series.loc[y_series.index < training_cutoff]\n",
    "\n",
    "trained_model = train(training_x_series, training_y_series)\n",
    "\n",
    "# Isolate test data\n",
    "test_x_series = x_df.loc[x_df.index >= training_cutoff]\n",
    "actual_series = y_series.loc[y_series.index >= training_cutoff]\n",
    "\n",
    "forecast_series = predict(trained_model, test_x_series)\n",
    "results_df = forecast_series.to_frame('Forecast').join(actual_series.to_frame('Actual')).dropna()\n",
    "\n",
    "# Evaluate forecasts\n",
    "results_df.plot.scatter(x='Actual', y='Forecast')\n",
    "plt.show()\n",
    "print(f\"R Squared: {r2_score(results_df['Actual'], results_df['Forecast']):.4f}, \"\n",
    "        f\"Mean Absolute Error: {mean_absolute_error(results_df['Actual'], results_df['Forecast']):.4f}\")"
   ]
  }
 ],
 "metadata": {
  "kernelspec": {
   "display_name": ".venv",
   "language": "python",
   "name": "python3"
  },
  "language_info": {
   "name": "python",
   "version": "3.11.7"
  }
 },
 "nbformat": 4,
 "nbformat_minor": 2
}
