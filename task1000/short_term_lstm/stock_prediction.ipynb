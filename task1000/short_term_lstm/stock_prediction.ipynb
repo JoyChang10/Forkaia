{
 "cells": [
  {
   "cell_type": "code",
   "execution_count": 2,
   "id": "ec299eef",
   "metadata": {},
   "outputs": [],
   "source": [
    "import pandas as pd\n",
    "import numpy as np\n",
    "from sklearn.preprocessing import MinMaxScaler\n",
    "from keras.models import Sequential\n",
    "from keras.layers import Dense, Dropout, LSTM\n",
    "import matplotlib.pyplot as plt"
   ]
  },
  {
   "cell_type": "code",
   "execution_count": 3,
   "id": "91ebf02e",
   "metadata": {},
   "outputs": [],
   "source": [
    "tsla_filepath = os.path.join(os.getcwd(), 'data', 'tsla.csv')\n",
    "goog_filepath = os.path.join(os.getcwd(), 'data', 'goog.csv')\n",
    "eth_filepath = os.path.join(os.getcwd(), 'data', 'eth.csv')\n",
    "btc_filepath = os.path.join(os.getcwd(), 'data', 'btc.csv')\n",
    "\n",
    "tsla_df = pd.read_csv(tsla_filepath)\n",
    "goog_df = pd.read_csv(goog_filepath)\n",
    "eth_df = pd.read_csv(eth_filepath)\n",
    "btc_df = pd.read_csv(btc_filepath)"
   ]
  },
  {
   "cell_type": "code",
   "execution_count": null,
   "id": "a53b356a",
   "metadata": {},
   "outputs": [],
   "source": [
    "# Function to preprocess data (splitting, scaling, and preparing training data)\n",
    "def preprocess_data(data, train_split=0.7, window_size=100):\n",
    "    # Splitting the data into training and testing\n",
    "    data_training = data[0:int(len(data) * train_split)]\n",
    "    data_testing = data[int(len(data) * train_split):]\n",
    "\n",
    "    # Scaling the data\n",
    "    scaler = MinMaxScaler(feature_range=(0, 1))\n",
    "    data_training_array = scaler.fit_transform(data_training)\n",
    "\n",
    "    # Preparing training data\n",
    "    x_train, y_train = [], []\n",
    "    for i in range(window_size, len(data_training_array)):\n",
    "        x_train.append(data_training_array[i - window_size:i])\n",
    "        y_train.append(data_training_array[i, 0])\n",
    "\n",
    "    x_train, y_train = np.array(x_train), np.array(y_train)\n",
    "\n",
    "    return x_train, y_train, data_testing, scaler"
   ]
  },
  {
   "cell_type": "code",
   "execution_count": null,
   "id": "09a394e5",
   "metadata": {},
   "outputs": [],
   "source": [
    "# Function to build the LSTM model\n",
    "def build_lstm_model(input_shape):\n",
    "    model = Sequential()\n",
    "    model.add(LSTM(units=50, activation='relu', return_sequences=True, input_shape=input_shape))\n",
    "    model.add(Dropout(0.2))\n",
    "    model.add(LSTM(units=60, activation='relu', return_sequences=True))\n",
    "    model.add(Dropout(0.3))\n",
    "    model.add(LSTM(units=80, activation='relu', return_sequences=True))\n",
    "    model.add(Dropout(0.4))\n",
    "    model.add(LSTM(units=120, activation='relu'))\n",
    "    model.add(Dropout(0.5))\n",
    "    model.add(Dense(units=1))\n",
    "    model.compile(optimizer='adam', loss='mean_squared_error')\n",
    "    \n",
    "    return model"
   ]
  },
  {
   "cell_type": "code",
   "execution_count": null,
   "id": "da151087",
   "metadata": {},
   "outputs": [],
   "source": [
    "# Function to prepare test data\n",
    "def prepare_test_data(data_testing, data_training, scaler, window_size=100):\n",
    "    past_data = data_training.tail(window_size)\n",
    "    final_data = pd.concat([past_data, data_testing], ignore_index=True)\n",
    "    input_data = scaler.transform(final_data)\n",
    "\n",
    "    x_test, y_test = [], []\n",
    "    for i in range(window_size, len(input_data)):\n",
    "        x_test.append(input_data[i - window_size:i])\n",
    "        y_test.append(input_data[i, 0])\n",
    "\n",
    "    x_test, y_test = np.array(x_test), np.array(y_test)\n",
    "    return x_test, y_test"
   ]
  },
  {
   "cell_type": "code",
   "execution_count": null,
   "id": "a6016438",
   "metadata": {},
   "outputs": [],
   "source": [
    "# Function to scale back and plot predictions\n",
    "def plot_predictions(y_test, y_predicted, scaler):\n",
    "    # Reverse scaling\n",
    "    scale_factor = 1 / scaler.scale_[0]\n",
    "    y_test = y_test * scale_factor\n",
    "    y_predicted = y_predicted * scale_factor\n",
    "\n",
    "    # Plotting\n",
    "    plt.figure(figsize=(12, 6))\n",
    "    plt.plot(y_test, label='Original Price', linewidth=1)\n",
    "    plt.plot(y_predicted, label='Predicted Price', linewidth=1)\n",
    "    plt.legend()\n",
    "    plt.show()"
   ]
  },
  {
   "cell_type": "code",
   "execution_count": null,
   "id": "b9faee7f",
   "metadata": {},
   "outputs": [],
   "source": [
    "# Main function to train and test the model for a given stock\n",
    "def train_and_test_lstm(stock_data, epochs=50, window_size=100):\n",
    "    # Preprocessing the data\n",
    "    x_train, y_train, data_testing, scaler = preprocess_data(stock_data[['Close']], window_size=window_size)\n",
    "\n",
    "    # Building the model\n",
    "    model = build_lstm_model((x_train.shape[1], 1))\n",
    "    model.fit(x_train, y_train, epochs=epochs, batch_size=32)\n",
    "\n",
    "    # Preparing test data\n",
    "    x_test, y_test = prepare_test_data(data_testing, stock_data[['Close']], scaler, window_size=window_size)\n",
    "\n",
    "    # Making predictions\n",
    "    y_predicted = model.predict(x_test)\n",
    "\n",
    "    # Plotting predictions\n",
    "    plot_predictions(y_test, y_predicted, scaler)"
   ]
  },
  {
   "cell_type": "code",
   "execution_count": null,
   "id": "76e8669e",
   "metadata": {},
   "outputs": [],
   "source": [
    "train_and_test_lstm(tsla_df)"
   ]
  },
  {
   "cell_type": "code",
   "execution_count": null,
   "id": "49e191ef",
   "metadata": {},
   "outputs": [],
   "source": [
    "train_and_test_lstm(goog_df)"
   ]
  },
  {
   "cell_type": "code",
   "execution_count": null,
   "id": "464c0f20",
   "metadata": {},
   "outputs": [],
   "source": [
    "train_and_test_lstm(goog_df)"
   ]
  },
  {
   "cell_type": "code",
   "execution_count": null,
   "id": "b00dec02",
   "metadata": {},
   "outputs": [],
   "source": [
    "train_and_test_lstm(goog_df)"
   ]
  }
 ],
 "metadata": {
  "kernelspec": {
   "display_name": ".venv",
   "language": "python",
   "name": "python3"
  },
  "language_info": {
   "codemirror_mode": {
    "name": "ipython",
    "version": 3
   },
   "file_extension": ".py",
   "mimetype": "text/x-python",
   "name": "python",
   "nbconvert_exporter": "python",
   "pygments_lexer": "ipython3",
   "version": "3.11.7"
  }
 },
 "nbformat": 4,
 "nbformat_minor": 5
}
