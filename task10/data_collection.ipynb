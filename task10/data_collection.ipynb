{
 "cells": [
  {
   "cell_type": "code",
   "execution_count": 1,
   "metadata": {},
   "outputs": [],
   "source": [
    "import csv\n",
    "import os"
   ]
  },
  {
   "cell_type": "code",
   "execution_count": null,
   "metadata": {},
   "outputs": [],
   "source": [
    "raw_data = os.path.join(os.getcwd(), 'task10', 'raw_data.csv')\n",
    "processed_data = 'processed_data.csv'\n",
    "\n",
    "# Read, process, and write to a new CSV\n",
    "with open(raw_data, mode='r', encoding='utf-8') as infile, \\\n",
    "     open(processed_data, mode='w', newline='', encoding='utf-8') as outfile:\n",
    "\n",
    "    reader = csv.reader(infile)\n",
    "    writer = csv.writer(outfile)\n",
    "\n",
    "    # Write the header\n",
    "    writer.writerow(['Company', 'Industry'])\n",
    "\n",
    "    # Process each row\n",
    "    for row in reader:\n",
    "        entry = row[0].strip()  # Get the single column and strip whitespace\n",
    "        if \"|\" in entry:\n",
    "            company, industry = map(str.strip, entry.split('|'))\n",
    "            writer.writerow([company, industry])\n",
    "\n",
    "print(f\"Data has been successfully processed and written to {processed_data}\")"
   ]
  }
 ],
 "metadata": {
  "kernelspec": {
   "display_name": ".venv",
   "language": "python",
   "name": "python3"
  },
  "language_info": {
   "codemirror_mode": {
    "name": "ipython",
    "version": 3
   },
   "file_extension": ".py",
   "mimetype": "text/x-python",
   "name": "python",
   "nbconvert_exporter": "python",
   "pygments_lexer": "ipython3",
   "version": "3.11.7"
  }
 },
 "nbformat": 4,
 "nbformat_minor": 2
}
